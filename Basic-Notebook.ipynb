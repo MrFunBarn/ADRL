{
 "cells": [
  {
   "cell_type": "code",
   "execution_count": 101,
   "metadata": {
    "collapsed": true
   },
   "outputs": [],
   "source": [
    "import re\n",
    "import subprocess\n",
    "\n",
    "from astropy.io import fits\n",
    "import pyfits"
   ]
  },
  {
   "cell_type": "code",
   "execution_count": 100,
   "metadata": {
    "collapsed": false
   },
   "outputs": [
    {
     "name": "stdout",
     "output_type": "stream",
     "text": [
      "\u001b[0m\u001b[01;34m29-06-2014UT-ARCSAT\u001b[0m/  dataSet.py  LICENSE         masterlog.log\r\n",
      "Basic-Notebook.ipynb  images.py   log_handler.py  README.md\r\n"
     ]
    }
   ],
   "source": [
    "ls\n"
   ]
  },
  {
   "cell_type": "code",
   "execution_count": 591,
   "metadata": {
    "collapsed": false
   },
   "outputs": [],
   "source": [
    "def read_obs_log(logName):\n",
    "    # The Latin-1 encoding is needed because of the degree symobl.\n",
    "    log = open(logName,'r', encoding='Latin-1')\n",
    "    log = log.read()\n",
    "    return log\n",
    "\n",
    "def extract_log_filenames(log):\n",
    "    filenames = []\n",
    "    searches = re.findall(r'(Imaging to) (\\S+)', log)\n",
    "    #searches = re.findall(r'(\\W+) (Imaging to) (\\S+)', log)\n",
    "    [filenames.append(x[1].strip('\\n')) for x in searches[:]]\n",
    "    return filenames\n",
    "\n",
    "def extract_log_metadata(filenames, log):\n",
    "    filesMeta = {}\n",
    "    searchstring = r'('+filenames[0]+')(.*?turning tracking off for safety)'\n",
    "    meta = re.findall(searchstring, log, re.DOTALL)\n",
    "    x = str()\n",
    "    x = [x+i for i in meta[0]]\n",
    "    print(x)\n",
    "    for name in filenames:\n",
    "        pass\n",
    "        #searchstring = r'('+name+')'\n",
    "        #searchstring = r'(Solved!) *.* (arcsec)'\n",
    "        #print(searchstring)\n",
    "        #meta = re.search(searchstring, log, re.DOTALL)\n",
    "        #print(meta.group(0))\n",
    "        #filesMeta.update({name:meta})\n",
    "    return meta\n",
    "\n",
    "def compare_log_to_files(lognames):\n",
    "    samenames = []\n",
    "    diffnames = []\n",
    "    ls = subprocess.check_output(['ls','-1', '29-06-2014UT-ARCSAT/'],\n",
    "                                 universal_newlines=True).strip().split('\\n')\n",
    "    for i in ls:\n",
    "        i = i.replace('.fits','')\n",
    "        if i in lognames:\n",
    "            samenames.append(i)\n",
    "        else:\n",
    "            diffnames.append(i)\n",
    "    return ls, samenames, diffnames"
   ]
  },
  {
   "cell_type": "code",
   "execution_count": 592,
   "metadata": {
    "collapsed": false
   },
   "outputs": [
    {
     "name": "stdout",
     "output_type": "stream",
     "text": [
      "['NAPG-A-V_johnson-cousins_V_20140629_064108', '\\n06:41:08   (taking 20 sec. exposure, johnson-cousins_V filter, binning = 2)\\n06:41:08   (using Monochrome readout mode)\\n06:41:08   (starting exposure)\\n06:41:39   (exposure complete and image downloaded)\\n06:41:40   Image finished\\n06:41:46   Plate-solve final image\\n06:41:47   520 image stars found\\n06:41:47   262 catalog stars found\\n06:41:48   Solved! 68 stars matched.\\n06:41:48   Average residual is 0.3 arcsec.\\n06:41:48   Pointing error is 1.930 arcmin @ angle 177.20\\n06:41:48   True focal length is 4006.6 mm.\\n06:41:48   True binned plate scales (arcsec/pix): H = 0.93 V = 0.93\\n06:41:48   True image center (J2000): 20h 58m 27.5s   43° 56\\' 22.21\"\\n06:41:48   Imager sky position angle is 0.0 deg.\\n06:41:48   Image FWHM is 2.1 arcsec (2.27 pixels)\\n06:41:49   (turning tracking off for safety']\n"
     ]
    },
    {
     "data": {
      "text/plain": [
       "[('NAPG-A-V_johnson-cousins_V_20140629_064108',\n",
       "  '\\n06:41:08   (taking 20 sec. exposure, johnson-cousins_V filter, binning = 2)\\n06:41:08   (using Monochrome readout mode)\\n06:41:08   (starting exposure)\\n06:41:39   (exposure complete and image downloaded)\\n06:41:40   Image finished\\n06:41:46   Plate-solve final image\\n06:41:47   520 image stars found\\n06:41:47   262 catalog stars found\\n06:41:48   Solved! 68 stars matched.\\n06:41:48   Average residual is 0.3 arcsec.\\n06:41:48   Pointing error is 1.930 arcmin @ angle 177.20\\n06:41:48   True focal length is 4006.6 mm.\\n06:41:48   True binned plate scales (arcsec/pix): H = 0.93 V = 0.93\\n06:41:48   True image center (J2000): 20h 58m 27.5s   43° 56\\' 22.21\"\\n06:41:48   Imager sky position angle is 0.0 deg.\\n06:41:48   Image FWHM is 2.1 arcsec (2.27 pixels)\\n06:41:49   (turning tracking off for safety')]"
      ]
     },
     "execution_count": 592,
     "metadata": {},
     "output_type": "execute_result"
    }
   ],
   "source": [
    "log = read_arcsat_obs_log('masterlog.log')\n",
    "filenames = extract_log_filenames(log)\n",
    "#print(filenames)\n",
    "#ls, same, diff = compare_log_to_files(filenames)\n",
    "extract_log_metadata(filenames, log)"
   ]
  },
  {
   "cell_type": "code",
   "execution_count": null,
   "metadata": {
    "collapsed": true
   },
   "outputs": [],
   "source": []
  },
  {
   "cell_type": "code",
   "execution_count": null,
   "metadata": {
    "collapsed": true
   },
   "outputs": [],
   "source": []
  }
 ],
 "metadata": {
  "kernelspec": {
   "display_name": "Python 3",
   "language": "python",
   "name": "python3"
  },
  "language_info": {
   "codemirror_mode": {
    "name": "ipython",
    "version": 3
   },
   "file_extension": ".py",
   "mimetype": "text/x-python",
   "name": "python",
   "nbconvert_exporter": "python",
   "pygments_lexer": "ipython3",
   "version": "3.5.0"
  }
 },
 "nbformat": 4,
 "nbformat_minor": 0
}
