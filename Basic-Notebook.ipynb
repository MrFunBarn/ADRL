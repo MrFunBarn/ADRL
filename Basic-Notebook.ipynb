{
 "cells": [
  {
   "cell_type": "code",
   "execution_count": 101,
   "metadata": {
    "collapsed": true
   },
   "outputs": [],
   "source": [
    "import re\n",
    "import subprocess\n",
    "\n",
    "from astropy.io import fits\n",
    "import pyfits"
   ]
  },
  {
   "cell_type": "code",
   "execution_count": 100,
   "metadata": {
    "collapsed": false
   },
   "outputs": [
    {
     "name": "stdout",
     "output_type": "stream",
     "text": [
      "\u001b[0m\u001b[01;34m29-06-2014UT-ARCSAT\u001b[0m/  dataSet.py  LICENSE         masterlog.log\r\n",
      "Basic-Notebook.ipynb  images.py   log_handler.py  README.md\r\n"
     ]
    }
   ],
   "source": [
    "ls\n"
   ]
  },
  {
   "cell_type": "code",
   "execution_count": 880,
   "metadata": {
    "collapsed": false
   },
   "outputs": [],
   "source": [
    "def read_obs_log(logName):\n",
    "    # The Latin-1 encoding is needed because of the degree symobl.\n",
    "    log = open(logName,'r', encoding='Latin-1')\n",
    "    log = log.read()\n",
    "    return log\n",
    "\n",
    "def extract_log_metadata(log):\n",
    "    \"\"\"\n",
    "    Parse log string and return a list of filenames and a dictionary.\n",
    "    \n",
    "    Arguments:\n",
    "    - ARCSAT log in the form of a sngle string.\n",
    "    \n",
    "    Returns:\n",
    "    - List of filenames(strings) that apear in the log. The file names\n",
    "      have no .fits extension.\n",
    "    - Dictionary whith the filenames as keys. The value for each filename\n",
    "      (key) is a dictionary with the time. \n",
    "      \n",
    "    Parses an arcsat log in the form of a single string; meant to handle\n",
    "    a string comprised of all the logs for a given night. Finds all image\n",
    "    file names referanced in the log and creates a list of those names (these\n",
    "    file names don't have .fits extensions). Builds a dictionary with keys for\n",
    "    each of these files. The value for each is itself a dictions with keys and\n",
    "    vlues coresponding to information in the log. Find the time an image was\n",
    "    finished and weither or not the image was plate solved. If plate solved\n",
    "    the average FWHM is found.\n",
    "    \"\"\"\n",
    "    \n",
    "    filenames = []\n",
    "    filesMeta = {}\n",
    "    # Find the files that have information in the logs.\n",
    "    searches = re.findall(r'(Imaging to) (\\S+)', log)\n",
    "    [filenames.append(x[1].strip('\\n')) for x in searches[:]]\n",
    "    # Find all the relevant information on each file in the logs.\n",
    "    for name in filenames:\n",
    "        # Build a string containing only information for a single file.\n",
    "        searchstring = r''+name+'.*?turning tracking off for safety\\)'\n",
    "        singleImageMeta = str(re.findall(searchstring, log, re.DOTALL)[0])\n",
    "        filesMeta[name] = {}\n",
    "        # Find the time that a given file was finished.\n",
    "        finishTime = re.search(r'(\\(exposure complete and image downloaded\\))(.*?)(\\S{8})',\n",
    "                               singleImageMeta, re.DOTALL)\n",
    "        finishTime = finishTime.group(3)\n",
    "        filesMeta[name]['finishTime'] = finishTime\n",
    "        # Dtermine if an image was plate solved and if so, get the average FWHM.\n",
    "        if 'Solved!' in singleImageMeta:\n",
    "            filesMeta[name]['solved'] = True\n",
    "            fwhm = re.search(r'(Image) (FWHM is) (\\d\\D\\d)', singleImageMeta)\n",
    "            fwhm = float(fwhm.group(3))\n",
    "            filesMeta[name]['fwhm'] = fwhm\n",
    "        else:\n",
    "            filesMeta[name]['solved'] = False\n",
    "    return filenames, filesMeta\n",
    "\n",
    "\n",
    "def compare_log_to_files(lognames):\n",
    "    samenames = []\n",
    "    diffnames = []\n",
    "    darks = []\n",
    "    biases = []\n",
    "    \n",
    "    ls = subprocess.check_output(['ls -1 *.fits'],\n",
    "                                 universal_newlines=True, shell=True).strip().split('\\n')\n",
    "    for i in ls:\n",
    "        \n",
    "        i = i.replace('.fits','')\n",
    "        if i in lognames:\n",
    "            samenames.append(i)\n",
    "        else:\n",
    "            diffnames.append(i)\n",
    "    return ls, samenames, diffnames"
   ]
  },
  {
   "cell_type": "code",
   "execution_count": 875,
   "metadata": {
    "collapsed": false
   },
   "outputs": [
    {
     "name": "stdout",
     "output_type": "stream",
     "text": [
      "/home/brandon/Work/ADRL\n"
     ]
    }
   ],
   "source": [
    "cd /home/brandon/Work/ADRL/"
   ]
  },
  {
   "cell_type": "code",
   "execution_count": 876,
   "metadata": {
    "collapsed": false
   },
   "outputs": [],
   "source": [
    "log = read_arcsat_obs_log('masterlog.log')"
   ]
  },
  {
   "cell_type": "code",
   "execution_count": 877,
   "metadata": {
    "collapsed": false
   },
   "outputs": [
    {
     "name": "stdout",
     "output_type": "stream",
     "text": [
      "/home/brandon/Work/ADRL/29-06-2014UT-ARCSAT\n"
     ]
    }
   ],
   "source": [
    "cd 29-06-2014UT-ARCSAT/"
   ]
  },
  {
   "cell_type": "code",
   "execution_count": 882,
   "metadata": {
    "collapsed": false
   },
   "outputs": [
    {
     "name": "stdout",
     "output_type": "stream",
     "text": [
      "['Bias_B2_20140629_115905', 'Bias_B2_20140629_115917', 'Bias_B2_20140629_115927', 'Bias_B2_20140629_115938', 'Bias_B2_20140629_115948', 'Bias_B2_20140629_115958', 'Bias_B2_20140629_120009', 'Bias_B2_20140629_120019', 'Bias_B2_20140629_120030', 'Bias_B2_20140629_120040', 'Bias_B2_20140629_120051', 'Dark_B2_20140629_120359', 'Dark_B2_20140629_120729', 'Dark_B2_20140629_121100', 'domeflat_halpha_6563_50_001', 'domeflat_johnson-cousins_Ic_001', 'domeflat_johnson-cousins_Ic_002', 'domeflat_johnson-cousins_Ic_003', 'domeflat_johnson-cousins_Ic_004', 'domeflat_johnson-cousins_Ic_005', 'domeflat_johnson-cousins_Ic_006', 'domeflat_johnson-cousins_Ic_007', 'domeflat_johnson-cousins_Ic_008', 'domeflat_johnson-cousins_Ic_009', 'domeflat_johnson-cousins_Ic_010', 'domeflat_johnson-cousins_Ic_011', 'domeflat_johnson-cousins_Rc_001', 'domeflat_johnson-cousins_Rc_002', 'domeflat_johnson-cousins_Rc_003', 'domeflat_johnson-cousins_Rc_004', 'domeflat_johnson-cousins_Rc_005', 'domeflat_johnson-cousins_Rc_006', 'domeflat_johnson-cousins_Rc_007', 'domeflat_johnson-cousins_Rc_008', 'domeflat_johnson-cousins_Rc_009', 'domeflat_johnson-cousins_Rc_010', 'domeflat_johnson-cousins_Rc_011', 'domeflat_johnson-cousins_V_001', 'domeflat_johnson-cousins_V_002', 'domeflat_johnson-cousins_V_003', 'domeflat_johnson-cousins_V_004', 'domeflat_johnson-cousins_V_005', 'domeflat_johnson-cousins_V_006', 'domeflat_johnson-cousins_V_007', 'domeflat_johnson-cousins_V_008', 'domeflat_johnson-cousins_V_009', 'domeflat_johnson-cousins_V_010', 'domeflat_johnson-cousins_V_011', 'NAPG-A-R_johnson-cousins_Rc_20140629_082015', 'NAPG-A-R_johnson-cousins_Rc_20140629_082803', 'skyflat_halpha_6563_50_001', 'skyflat_halpha_6563_50_002', 'skyflat_halpha_6563_50_003', 'skyflat_halpha_6563_50_004', 'skyflat_johnson-cousins_Ic_001', 'skyflat_johnson-cousins_Ic_002', 'skyflat_johnson-cousins_Ic_003', 'skyflat_johnson-cousins_Ic_004', 'skyflat_johnson-cousins_Rc_001', 'skyflat_johnson-cousins_Rc_002', 'skyflat_johnson-cousins_Rc_003', 'skyflat_johnson-cousins_Rc_004', 'skyflat_johnson-cousins_V_001', 'skyflat_johnson-cousins_V_002', 'skyflat_johnson-cousins_V_003', 'skyflat_johnson-cousins_V_004']\n",
      "['Bias_B2_20140629_115905.fits', 'Bias_B2_20140629_115917.fits', 'Bias_B2_20140629_115927.fits', 'Bias_B2_20140629_115938.fits', 'Bias_B2_20140629_115948.fits', 'Bias_B2_20140629_115958.fits', 'Bias_B2_20140629_120009.fits', 'Bias_B2_20140629_120019.fits', 'Bias_B2_20140629_120030.fits', 'Bias_B2_20140629_120040.fits', 'Bias_B2_20140629_120051.fits', 'Dark_B2_20140629_120359.fits', 'Dark_B2_20140629_120729.fits', 'Dark_B2_20140629_121100.fits', 'domeflat_halpha_6563_50_001.fits', 'domeflat_johnson-cousins_Ic_001.fits', 'domeflat_johnson-cousins_Ic_002.fits', 'domeflat_johnson-cousins_Ic_003.fits', 'domeflat_johnson-cousins_Ic_004.fits', 'domeflat_johnson-cousins_Ic_005.fits', 'domeflat_johnson-cousins_Ic_006.fits', 'domeflat_johnson-cousins_Ic_007.fits', 'domeflat_johnson-cousins_Ic_008.fits', 'domeflat_johnson-cousins_Ic_009.fits', 'domeflat_johnson-cousins_Ic_010.fits', 'domeflat_johnson-cousins_Ic_011.fits', 'domeflat_johnson-cousins_Rc_001.fits', 'domeflat_johnson-cousins_Rc_002.fits', 'domeflat_johnson-cousins_Rc_003.fits', 'domeflat_johnson-cousins_Rc_004.fits', 'domeflat_johnson-cousins_Rc_005.fits', 'domeflat_johnson-cousins_Rc_006.fits', 'domeflat_johnson-cousins_Rc_007.fits', 'domeflat_johnson-cousins_Rc_008.fits', 'domeflat_johnson-cousins_Rc_009.fits', 'domeflat_johnson-cousins_Rc_010.fits', 'domeflat_johnson-cousins_Rc_011.fits', 'domeflat_johnson-cousins_V_001.fits', 'domeflat_johnson-cousins_V_002.fits', 'domeflat_johnson-cousins_V_003.fits', 'domeflat_johnson-cousins_V_004.fits', 'domeflat_johnson-cousins_V_005.fits', 'domeflat_johnson-cousins_V_006.fits', 'domeflat_johnson-cousins_V_007.fits', 'domeflat_johnson-cousins_V_008.fits', 'domeflat_johnson-cousins_V_009.fits', 'domeflat_johnson-cousins_V_010.fits', 'domeflat_johnson-cousins_V_011.fits', 'M31-F4-I_johnson-cousins_Ic_20140629_104833.fits', 'M31-F4-R_johnson-cousins_Rc_20140629_102158.fits', 'M31-F4-R_johnson-cousins_Rc_20140629_102712.fits', 'M31-F4-R_johnson-cousins_Rc_20140629_103227.fits', 'M31-F4-V_johnson-cousins_V_20140629_100403.fits', 'M31-F4-V_johnson-cousins_V_20140629_101145.fits', 'M31-F4-V_johnson-cousins_V_20140629_101657.fits', 'NAPG-A-I_johnson-cousins_Ic_20140629_084421.fits', 'NAPG-A-I_johnson-cousins_Ic_20140629_085010.fits', 'NAPG-A-I_johnson-cousins_Ic_20140629_085529.fits', 'NAPG-A-I_johnson-cousins_Ic_20140629_090200.fits', 'NAPG-A-R_johnson-cousins_Rc_20140629_082015.fits', 'NAPG-A-R_johnson-cousins_Rc_20140629_082803.fits', 'NAPG-A-R_johnson-cousins_Rc_20140629_083632.fits', 'NAPG-A-V_johnson-cousins_V_20140629_064108.fits', 'NAPG-A-V_johnson-cousins_V_20140629_065934.fits', 'NAPG-A-V_johnson-cousins_V_20140629_070902.fits', 'NAPG-A-V_johnson-cousins_V_20140629_073059.fits', 'NAPG-A-V_johnson-cousins_V_20140629_074110.fits', 'NAPG-A-V_johnson-cousins_V_20140629_075006.fits', 'NAPG-A-V_johnson-cousins_V_20140629_080555.fits', 'NAPG-A-V_johnson-cousins_V_20140629_081442.fits', 'NAPG-L-I_johnson-cousins_Ic_20140629_090756.fits', 'NAPG-L-I_johnson-cousins_Ic_20140629_091458.fits', 'NAPG-L-R_johnson-cousins_Rc_20140629_092013.fits', 'NAPG-L-R_johnson-cousins_Rc_20140629_092534.fits', 'NAPG-L-R_johnson-cousins_Rc_20140629_093059.fits', 'NAPG-L-V_johnson-cousins_V_20140629_093852.fits', 'NAPG-L-V_johnson-cousins_V_20140629_094549.fits', 'NAPG-L-V_johnson-cousins_V_20140629_095118.fits', 'skyflat_halpha_6563_50_001.fits', 'skyflat_halpha_6563_50_002.fits', 'skyflat_halpha_6563_50_003.fits', 'skyflat_halpha_6563_50_004.fits', 'skyflat_johnson-cousins_Ic_001.fits', 'skyflat_johnson-cousins_Ic_002.fits', 'skyflat_johnson-cousins_Ic_003.fits', 'skyflat_johnson-cousins_Ic_004.fits', 'skyflat_johnson-cousins_Rc_001.fits', 'skyflat_johnson-cousins_Rc_002.fits', 'skyflat_johnson-cousins_Rc_003.fits', 'skyflat_johnson-cousins_Rc_004.fits', 'skyflat_johnson-cousins_V_001.fits', 'skyflat_johnson-cousins_V_002.fits', 'skyflat_johnson-cousins_V_003.fits', 'skyflat_johnson-cousins_V_004.fits']\n"
     ]
    }
   ],
   "source": [
    "fileNames, filesMeta = extract_log_metadata(log)\n",
    "ls, same, diff = compare_log_to_files(filenames)\n",
    "print(diff)\n",
    "print(ls)"
   ]
  },
  {
   "cell_type": "code",
   "execution_count": null,
   "metadata": {
    "collapsed": true
   },
   "outputs": [],
   "source": []
  }
 ],
 "metadata": {
  "kernelspec": {
   "display_name": "Python 3",
   "language": "python",
   "name": "python3"
  },
  "language_info": {
   "codemirror_mode": {
    "name": "ipython",
    "version": 3
   },
   "file_extension": ".py",
   "mimetype": "text/x-python",
   "name": "python",
   "nbconvert_exporter": "python",
   "pygments_lexer": "ipython3",
   "version": "3.5.0"
  }
 },
 "nbformat": 4,
 "nbformat_minor": 0
}
